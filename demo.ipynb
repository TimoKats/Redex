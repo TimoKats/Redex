{
 "cells": [
  {
   "cell_type": "markdown",
   "metadata": {},
   "source": [
    "### Demo Redex"
   ]
  },
  {
   "cell_type": "code",
   "execution_count": 2,
   "metadata": {},
   "outputs": [],
   "source": [
    "# first, we can import Redex\n",
    "import redex as rd"
   ]
  },
  {
   "cell_type": "code",
   "execution_count": 3,
   "metadata": {},
   "outputs": [
    {
     "name": "stdout",
     "output_type": "stream",
     "text": [
      "\n",
      "\n",
      "  ;,//;,    ,;/      Description:        Python library for readable regex.\n",
      " o:::::::;;///       Version:            1.0.1\n",
      ">::::::::;;\\\\\\       Author:             Timo Kats\n",
      "  \"\\\\\\\\\\\"\"  ';\\      Last updated:       10/07/2023\n",
      "\n",
      "\n"
     ]
    }
   ],
   "source": [
    "# next, let's check the version number.\n",
    "rd.info()"
   ]
  },
  {
   "cell_type": "code",
   "execution_count": 4,
   "metadata": {},
   "outputs": [],
   "source": [
    "# Now we create a string to practice with\n",
    "string = \"\"\"\n",
    "The names John Doe for males, Jane Doe or Jane Roe for females, or Jonnie Doe and Janie Joe for children, or just Doe non-gender-specifically are used as placeholder names for a party whose true identity is unknown or must be withheld in a legal action, case, or discussion. The names are also used to refer to acorpse or hospital patient whose identity is unknown. This practice is widely used in the United States and Canada, but is rarely used in other English-speaking countries including the United Kingdom itself, from where the use of John Doe in a legal context originates. mail123@email.com mailmain.com.\n",
    "\"\"\".replace('\\n','')"
   ]
  },
  {
   "cell_type": "code",
   "execution_count": 5,
   "metadata": {},
   "outputs": [
    {
     "data": {
      "text/plain": [
       "['English-speaking']"
      ]
     },
     "execution_count": 5,
     "metadata": {},
     "output_type": "execute_result"
    }
   ],
   "source": [
    "# The first query will return anything that startswith an uppercase character and contains an hyphen\n",
    "# By default, it returns this as a list of strings\n",
    "rd.find('startswith:*upper and contains:-', string)"
   ]
  },
  {
   "cell_type": "code",
   "execution_count": 6,
   "metadata": {},
   "outputs": [
    {
     "data": {
      "text/plain": [
       "[2, 3, 6, 7, 9, 10, 14, 15, 17, 18, 23, 75, 94, 95]"
      ]
     },
     "execution_count": 6,
     "metadata": {},
     "output_type": "execute_result"
    }
   ],
   "source": [
    "# This query returns the locations of anything that contains an 'o' or 'a' on position 1 and adheres to the proximity search of upper and lowercase characters\n",
    "rd.find('(location:{o,1} or location:{a,1}) and proximity:{*upper,*lower}3', string, format='int')"
   ]
  },
  {
   "cell_type": "code",
   "execution_count": 7,
   "metadata": {},
   "outputs": [
    {
     "data": {
      "text/plain": [
       "[(1, 'John Doe'),\n",
       " (3, 'Jane Doe'),\n",
       " (7, 'Jonnie Doe'),\n",
       " (36, 'United States'),\n",
       " (43, 'United Kingdom'),\n",
       " (47, 'John Doe')]"
      ]
     },
     "execution_count": 7,
     "metadata": {},
     "output_type": "execute_result"
    }
   ],
   "source": [
    "# Changes the granularity to two words and returns substrings where both strings start with an uppercase character.\n",
    "# Result returned as a list of tuples (word+locations)\n",
    "rd.find('count:{*upper,2}', string, granularity=2, format='tuple')"
   ]
  },
  {
   "cell_type": "code",
   "execution_count": 8,
   "metadata": {},
   "outputs": [
    {
     "data": {
      "text/plain": [
       "['mail123@email.com']"
      ]
     },
     "execution_count": 8,
     "metadata": {},
     "output_type": "execute_result"
    }
   ],
   "source": [
    "# returns all email addresses\n",
    "rd.find('sequence:{*alpha,@,.com} or sequence:{*alpha,@,.co.uk}', string)"
   ]
  }
 ],
 "metadata": {
  "kernelspec": {
   "display_name": "Python 3",
   "language": "python",
   "name": "python3"
  },
  "language_info": {
   "codemirror_mode": {
    "name": "ipython",
    "version": 3
   },
   "file_extension": ".py",
   "mimetype": "text/x-python",
   "name": "python",
   "nbconvert_exporter": "python",
   "pygments_lexer": "ipython3",
   "version": "3.11.1"
  },
  "orig_nbformat": 4
 },
 "nbformat": 4,
 "nbformat_minor": 2
}
